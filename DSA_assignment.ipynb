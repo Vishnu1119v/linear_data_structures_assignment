{
 "cells": [
  {
   "cell_type": "code",
   "execution_count": 25,
   "id": "73c75573",
   "metadata": {},
   "outputs": [
    {
     "name": "stdout",
     "output_type": "stream",
     "text": [
      "enter the sum4\n",
      "pairs of numbers whose sum is equal to 4 are 1,3\n"
     ]
    }
   ],
   "source": [
    "# Q1. Write a program to find all pairs of an integer array whose sum is equal to a given number?\n",
    "array=[1,4,3,2,5,6]\n",
    "sum=int(input('enter the sum'))\n",
    "for i in range(len(array)):\n",
    "    for j in range(i+1,len(array)):\n",
    "        if array[i]+array[j]==sum:\n",
    "            print(f'pairs of numbers whose sum is equal to {sum} are {array[i]},{array[j]}')"
   ]
  },
  {
   "cell_type": "code",
   "execution_count": 26,
   "id": "c4f193a1",
   "metadata": {},
   "outputs": [
    {
     "name": "stdout",
     "output_type": "stream",
     "text": [
      "Array before reverse: [4, 3, 2, 7, 9, 0]\n",
      "Array after reverse: [0, 9, 7, 2, 3, 4]\n"
     ]
    }
   ],
   "source": [
    "# Q2. Write a program to reverse an array in place? In place means you cannot create a new array.\n",
    "#You have to update the original array.\n",
    "\n",
    "array = [4,3,2,7,9,0]\n",
    "print(f\"Array before reverse: {array}\")\n",
    "\n",
    "start = 0\n",
    "end = len(array) - 1\n",
    "\n",
    "while end>start:\n",
    "    array[start], array[end] = array[end],array[start]\n",
    "    start += 1\n",
    "    end -= 1 \n",
    "print(f\"Array after reverse: {array}\")"
   ]
  },
  {
   "cell_type": "code",
   "execution_count": 3,
   "id": "b84fbcde",
   "metadata": {},
   "outputs": [
    {
     "name": "stdout",
     "output_type": "stream",
     "text": [
      "enter a string:abcd\n",
      "enter a another string:cdab\n",
      "Two strings are rotation of each other\n"
     ]
    }
   ],
   "source": [
    "#Q3 Write a program to check if two strings are a rotation of each other?\n",
    "\n",
    "str1=input(\"enter a string:\")\n",
    "str2=input(\"enter a another string:\")\n",
    "if len(str1)!=len(str2):\n",
    "    print(\"Two strings are not a rotation of each other\")\n",
    "else:\n",
    "    temp=str1+str1\n",
    "    if str2 in temp:\n",
    "        print(\"Two strings are rotation of each other\")\n",
    "    else:\n",
    "        print(\"Two strings are not a rotation of each other\")\n"
   ]
  },
  {
   "cell_type": "code",
   "execution_count": 6,
   "id": "586bafd8",
   "metadata": {},
   "outputs": [
    {
     "name": "stdout",
     "output_type": "stream",
     "text": [
      "enter the string\"philanthropist\"\n",
      "First non-repeating character is : l\n"
     ]
    }
   ],
   "source": [
    "#Q4 Write a program to print the first non-repeated character from a string?\n",
    "\n",
    "str1 = input('enter the string')\n",
    "index = -1\n",
    "char = \"\"\n",
    "for i in str1:\n",
    "    if str1.count(i) == 1:\n",
    "        char += i\n",
    "        break\n",
    "    else:\n",
    "        index += 1\n",
    "if index == 1:\n",
    "    print(\"Either all characters are repeating or string is empty\")\n",
    "else:\n",
    "    print(\"First non-repeating character is :\", char)"
   ]
  },
  {
   "cell_type": "code",
   "execution_count": 7,
   "id": "bb7fa4d6",
   "metadata": {},
   "outputs": [
    {
     "name": "stdout",
     "output_type": "stream",
     "text": [
      "disk 1 is moving from source A to destination B\n",
      "disk 2 is moving from source A to destination C\n",
      "disk 1 is moving from source B to destination C\n",
      "disk 3 is moving from source A to destination B\n",
      "disk 1 is moving from source C to destination A\n",
      "disk 2 is moving from source C to destination B\n",
      "disk 1 is moving from source A to destination B\n"
     ]
    }
   ],
   "source": [
    "#Q5 Read about the Tower of Hanoi algorithm. Write a program to implement it.\n",
    "\n",
    "def towerhanoi(n,source,destination,temp):\n",
    "    if n==1:\n",
    "        print(f\"disk 1 is moving from source {source} to destination {destination}\" )\n",
    "        return\n",
    "    towerhanoi(n-1,source,temp,destination)\n",
    "    print (f\"disk {n} is moving from source {source} to destination {destination}\")\n",
    "    towerhanoi(n-1, temp,destination,source)\n",
    "    \n",
    "n=3\n",
    "towerhanoi(n,'A','B','C')"
   ]
  },
  {
   "cell_type": "code",
   "execution_count": 9,
   "id": "0febf813",
   "metadata": {},
   "outputs": [
    {
     "name": "stdout",
     "output_type": "stream",
     "text": [
      "prefix: *+AB-CD\n"
     ]
    }
   ],
   "source": [
    "#Q6 Read about infix, prefix, and postfix expressions. Write a program to convert postfix to prefix expression.\n",
    "\n",
    "def isoperator(x):\n",
    "    if x==\"+\":\n",
    "        return True\n",
    "    elif x==\"-\":\n",
    "        return True\n",
    "    elif x==\"*\":\n",
    "        return True\n",
    "    elif x==\"/\":\n",
    "         return True\n",
    "    else:\n",
    "        return False\n",
    "    \n",
    "\n",
    "def postfixtoprefix(postfix):\n",
    "    s=[]\n",
    "    length=len(postfix)\n",
    "    for i in range(length):\n",
    "        if (isoperator(postfix[i])):\n",
    "            op1=s[-1]\n",
    "            s.pop()\n",
    "            op2=s[-1]\n",
    "            s.pop()\n",
    "            temp=postfix[i]+op2+op1\n",
    "            s.append(temp)\n",
    "        else:\n",
    "            s.append(postfix[i])\n",
    "\n",
    "    ans=\"\"\n",
    "    for i in s:\n",
    "        ans +=i\n",
    "        return ans\n",
    "postfix=\"AB+CD-*\"\n",
    "print(\"prefix:\",postfixtoprefix(postfix))\n",
    "\n",
    "           "
   ]
  },
  {
   "cell_type": "code",
   "execution_count": 28,
   "id": "2f13cc7f",
   "metadata": {},
   "outputs": [
    {
     "name": "stdout",
     "output_type": "stream",
     "text": [
      "((a-(b/c))*((a/d)-e))\n"
     ]
    }
   ],
   "source": [
    "#Q7 Write a program to convert prefix expression to infix expression.\n",
    "def prefixToInfix(prefix):\n",
    "    stack = []\n",
    "    i = len(prefix) - 1\n",
    "    while i >= 0:\n",
    "        if not isOperator(prefix[i]):\n",
    "             \n",
    "            stack.append(prefix[i])\n",
    "            i -= 1\n",
    "        else:\n",
    "           \n",
    "            str = \"(\" + stack.pop() + prefix[i] + stack.pop() + \")\"\n",
    "            stack.append(str)\n",
    "            i -= 1\n",
    "     \n",
    "    return stack.pop()\n",
    " \n",
    "def isOperator(c):\n",
    "    if c == \"*\" or c == \"+\" or c == \"-\" or c == \"/\" or c == \"^\" or c == \"(\" or c == \")\":\n",
    "        return True\n",
    "    else:\n",
    "        return False\n",
    " \n",
    "\n",
    "str = \"*-a/bc-/ade\"\n",
    "print(prefixToInfix(str))\n",
    "     "
   ]
  },
  {
   "cell_type": "code",
   "execution_count": 19,
   "id": "ece7d38a",
   "metadata": {},
   "outputs": [
    {
     "name": "stdout",
     "output_type": "stream",
     "text": [
      "brackets are closed\n"
     ]
    }
   ],
   "source": [
    "#Q8 Write a program to check if all the brackets are closed in a given code snippet.\n",
    "def balanced(input):\n",
    "    count=0\n",
    "    flag=True\n",
    "    i=len(input)\n",
    "    for i in range(i):\n",
    "        if input[i]==\"(\":\n",
    "            count+=1\n",
    "        else:\n",
    "            count-=1\n",
    "        if (count<0):\n",
    "            flag=False\n",
    "            break\n",
    "    if (count!=0):\n",
    "        flag=False\n",
    "    return flag\n",
    "\n",
    "\n",
    "exp1=\"(()())\"\n",
    "if (balanced(exp1)):\n",
    "    print(\"brackets are closed\")\n",
    "else:\n",
    "    print(\"brackets are not closed\")"
   ]
  },
  {
   "cell_type": "code",
   "execution_count": 22,
   "id": "05b8debc",
   "metadata": {},
   "outputs": [
    {
     "name": "stdout",
     "output_type": "stream",
     "text": [
      "orgina stack\n",
      "0\n",
      "7\n",
      "5\n",
      "2\n",
      "1\n",
      "\n",
      "reversed stack\n",
      "1\n",
      "2\n",
      "5\n",
      "7\n",
      "0\n"
     ]
    }
   ],
   "source": [
    "#Q9 Write a program to reverse a stack.\n",
    "\n",
    "class stack:\n",
    "    def __init__(self):\n",
    "        self.items=[]\n",
    "    def push(self,element):\n",
    "        self.items.append(element)\n",
    "    def pop(self):\n",
    "        return self.items.pop()\n",
    "    def empty(self):\n",
    "        return self.items==[]\n",
    "\n",
    "    def orginalstackshow(self):\n",
    "        print(\"orgina stack\")\n",
    "        for val in self.items:\n",
    "            print(val)\n",
    "            \n",
    "    def reversedstackshow(self):\n",
    "        print(\"\\nreversed stack\")\n",
    "        for val in reversed(self.items):\n",
    "            print(val)\n",
    "stk=stack()\n",
    "stk.push(0)\n",
    "stk.push(7)\n",
    "stk.push(5)\n",
    "stk.push(2)\n",
    "stk.push(1)\n",
    "stk.orginalstackshow()\n",
    "stk.reversedstackshow()"
   ]
  },
  {
   "cell_type": "code",
   "execution_count": 23,
   "id": "c1abd797",
   "metadata": {},
   "outputs": [
    {
     "data": {
      "text/plain": [
       "2"
      ]
     },
     "execution_count": 23,
     "metadata": {},
     "output_type": "execute_result"
    }
   ],
   "source": [
    "#Q10 Write a program to find the smallest number using a stack\n",
    "\n",
    "class stack:\n",
    "    def __init__(self):\n",
    "        self.stack=[]\n",
    "        self.min_stack=[]\n",
    "    def push(self,element):\n",
    "        self.stack.append(element)\n",
    "        if len(self.min_stack)==0:\n",
    "            self.min_stack.append(element)\n",
    "            return\n",
    "        smallest=min(element,self.min_stack[-1])\n",
    "        self.min_stack.append(smallest)\n",
    "    def pop(self):\n",
    "        self.min_stack.pop()\n",
    "        return self.stack.pop()\n",
    "    def min(self):\n",
    "        return self.min_stack[-1]\n",
    "skt=stack()\n",
    "skt.push(6)\n",
    "skt.push(5)\n",
    "skt.push(9)\n",
    "skt.push(2)\n",
    "skt.push(3)\n",
    "skt.min()"
   ]
  },
  {
   "cell_type": "code",
   "execution_count": null,
   "id": "3785aa1d",
   "metadata": {},
   "outputs": [],
   "source": []
  }
 ],
 "metadata": {
  "kernelspec": {
   "display_name": "Python 3 (ipykernel)",
   "language": "python",
   "name": "python3"
  },
  "language_info": {
   "codemirror_mode": {
    "name": "ipython",
    "version": 3
   },
   "file_extension": ".py",
   "mimetype": "text/x-python",
   "name": "python",
   "nbconvert_exporter": "python",
   "pygments_lexer": "ipython3",
   "version": "3.9.12"
  }
 },
 "nbformat": 4,
 "nbformat_minor": 5
}
